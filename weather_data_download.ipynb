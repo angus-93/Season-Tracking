{
 "cells": [
  {
   "cell_type": "code",
   "execution_count": null,
   "id": "263972dc-4a89-4030-b2c9-bbf93836ae46",
   "metadata": {},
   "outputs": [],
   "source": [
    "import pandas as pd\n",
    "import numpy as np\n",
    "import opendap_python_example.simple_file_downloader as sfd\n",
    "import urllib3\n",
    "from os import listdir\n",
    "from time import time\n",
    "import datetime\n",
    "\n",
    "from multiprocessing.pool import ThreadPool"
   ]
  },
  {
   "cell_type": "markdown",
   "id": "6e5d3bd5-a943-4f2d-be85-710c0d6a011f",
   "metadata": {},
   "source": [
    "# Download list of all files"
   ]
  },
  {
   "cell_type": "code",
   "execution_count": 3,
   "id": "65a49a24-67c7-4bf6-961e-8458b1472b87",
   "metadata": {},
   "outputs": [],
   "source": [
    "# disable insecure http warnings\n",
    "urllib3.disable_warnings()"
   ]
  },
  {
   "cell_type": "code",
   "execution_count": 7,
   "id": "a4f5637f-2f04-45e9-a4ab-342c846d88b4",
   "metadata": {},
   "outputs": [
    {
     "data": {
      "text/plain": [
       "False"
      ]
     },
     "execution_count": 7,
     "metadata": {},
     "output_type": "execute_result"
    }
   ],
   "source": [
    "CEDA_USERNAME = \"amarjoribanks\"\n",
    "CEDA_PASSWORD = \"ucXVqTTfxY!9b\"\n",
    "\n",
    "sfd.setup_credentials(CEDA_USERNAME, CEDA_PASSWORD)"
   ]
  },
  {
   "cell_type": "code",
   "execution_count": 8,
   "id": "f8340755-c2cc-4686-ba3a-725d32df2d5f",
   "metadata": {},
   "outputs": [],
   "source": [
    "# base url\n",
    "url = \"https://data.ceda.ac.uk\""
   ]
  },
  {
   "cell_type": "markdown",
   "id": "cd29589e-3ea4-4f07-8d60-30e30aea0be7",
   "metadata": {},
   "source": [
    "### Read in list of all files"
   ]
  },
  {
   "cell_type": "code",
   "execution_count": 9,
   "id": "5eaa9bdb-6ed6-4a29-ac3b-929c830bc45a",
   "metadata": {},
   "outputs": [],
   "source": [
    "paths_file = pd.read_csv(\n",
    "    \"midas-open-v202007-md5s.txt\",\n",
    "    header=None,\n",
    "    names=[\"id\", \"unkown\", \"path\"],\n",
    "    delimiter=\" \",\n",
    ")"
   ]
  },
  {
   "cell_type": "code",
   "execution_count": 10,
   "id": "a04d9bbb-ece9-4f38-840d-4776ff055bbb",
   "metadata": {},
   "outputs": [
    {
     "data": {
      "text/plain": [
       "['.',\n",
       " 'data',\n",
       " 'uk-daily-temperature-obs',\n",
       " 'dataset-version-202007',\n",
       " 'devon',\n",
       " '01381_twist',\n",
       " 'qc-version-1',\n",
       " 'midas-open_uk-daily-temperature-obs_dv-202007_devon_01381_twist_qcv-1_1986.csv']"
      ]
     },
     "execution_count": 10,
     "metadata": {},
     "output_type": "execute_result"
    }
   ],
   "source": [
    "paths_file.path[0].split(\"/\")"
   ]
  },
  {
   "cell_type": "code",
   "execution_count": 11,
   "id": "4b2ceb8b-61f9-41cc-9cc2-6e50f8ee911c",
   "metadata": {},
   "outputs": [],
   "source": [
    "# split out various labels\n",
    "paths_file[\"dataset\"] = paths_file.path.str.split(\"/\", expand=True)[\n",
    "    2\n",
    "]  # type of observation"
   ]
  },
  {
   "cell_type": "code",
   "execution_count": 12,
   "id": "a73da955-4ee3-4b31-ae1c-92ab745d68ac",
   "metadata": {},
   "outputs": [],
   "source": [
    "paths_file[\"region\"] = paths_file.path.str.split(\"/\", expand=True)[\n",
    "    4\n",
    "]  # wider region/county\n",
    "paths_file[\"site\"] = paths_file.path.str.split(\"/\", expand=True)[\n",
    "    5\n",
    "]  # specific weather station\n",
    "paths_file[\"version\"] = paths_file.path.str.split(\"/\", expand=True)[\n",
    "    3\n",
    "]  # data version, to ensure pulling latest data"
   ]
  },
  {
   "cell_type": "markdown",
   "id": "306eda74-d20c-4873-b422-62412b2f8fc7",
   "metadata": {},
   "source": [
    "## Temperatures"
   ]
  },
  {
   "cell_type": "code",
   "execution_count": null,
   "id": "ad666359-f02d-48f3-9f04-19e3e8828473",
   "metadata": {},
   "outputs": [],
   "source": [
    "# # selecting only recent, temperature data\n",
    "\n",
    "# temps = paths_file.loc[\n",
    "#     (paths_file.dataset == \"uk-daily-temperature-obs\")\n",
    "#     & (paths_file.version == \"dataset-version-202007\"),\n",
    "#     [\"path\", \"dataset\", \"region\", \"site\"],\n",
    "# ]"
   ]
  },
  {
   "cell_type": "code",
   "execution_count": null,
   "id": "b1368829-ec33-4292-833c-ac2c94bec3f0",
   "metadata": {},
   "outputs": [],
   "source": [
    "# # necessary prefix and suffix needed in addition to above file paths\n",
    "\n",
    "# link_start = \"https://dap.ceda.ac.uk/badc/ukmo-midas-open\"\n",
    "# link_end = \"?download=1\""
   ]
  },
  {
   "cell_type": "code",
   "execution_count": null,
   "id": "f6f6fc25-d9aa-412d-abde-beef1a6f582a",
   "metadata": {},
   "outputs": [],
   "source": [
    "# # not interested in 'capability files'\n",
    "\n",
    "# drop_temps = temps.path.str.contains(\"capability\")\n",
    "# temps = temps[~drop_temps]"
   ]
  },
  {
   "cell_type": "code",
   "execution_count": null,
   "id": "be0e17f4-983d-44d7-aa72-d8275f9a35b9",
   "metadata": {},
   "outputs": [],
   "source": [
    "# creating list of all urls, while dropping leading '.' from file path\n",
    "\n",
    "# temps_urls = [link_start + url.strip(\".\") + link_end for url in temps.path]"
   ]
  },
  {
   "cell_type": "code",
   "execution_count": null,
   "id": "1ae2aab9-ba7b-4d60-9656-2f86d5ec46b7",
   "metadata": {},
   "outputs": [],
   "source": [
    "# # checking for existing files and removing from download list\n",
    "# # useful if dowload fails halfway through etc\n",
    "\n",
    "# existing_temps_files = listdir(\"raw_data/temps\")\n",
    "\n",
    "# remaining_temps_urls = [\n",
    "#     url for url in temps if url.split(\"/\")[-1].split(\"?\")[0] not in existing_temps_files\n",
    "# ]"
   ]
  },
  {
   "cell_type": "markdown",
   "id": "1f59023e-45bc-47e3-b2ed-eaa018563403",
   "metadata": {},
   "source": [
    "10 threads, 100 images"
   ]
  },
  {
   "cell_type": "markdown",
   "id": "8ad2082e-ce6f-4c5f-bd81-c5ce8f12b804",
   "metadata": {},
   "source": [
    "### Initiating threading to improve download speed\n",
    "10 threads yielded best overall speed"
   ]
  },
  {
   "cell_type": "code",
   "execution_count": null,
   "id": "3e25a0a1-1343-4662-b163-ff8d4788d99b",
   "metadata": {},
   "outputs": [],
   "source": [
    "# start = time()\n",
    "\n",
    "# threads = ThreadPool(10)  # Initialize the desired number of threads\n",
    "# threads.map(sfd.main_temps, remaining_temps_urls)\n",
    "\n",
    "# print(\n",
    "#     f\"\\nParallel Execution of {len(remaining_urls)} downloads, Time Taken: {time() - start}\"\n",
    "# )"
   ]
  },
  {
   "cell_type": "markdown",
   "id": "c30bd0e3-b0f8-4883-99c2-3b81dddb1a50",
   "metadata": {},
   "source": [
    "80 downloads, 5 threads - 32s\n",
    "100 downloads, 5 threads - 41s\n",
    "100 downloads, 10 threads - 39s\n",
    "100 downloads, 8 threads - 41s\n",
    "100 downloads, 4 threads - 52s\n",
    "100 downloads, 4 threads (no cloud sync) - 55s\n",
    "\n",
    "100 downloads, 10 threads (no cloud sync) - 43"
   ]
  },
  {
   "cell_type": "code",
   "execution_count": null,
   "id": "0b5e6074-773a-4f16-95ad-c5ca65876df7",
   "metadata": {},
   "outputs": [],
   "source": [
    "# # combine all csvs into one\n",
    "\n",
    "# temps_files = listdir(\"raw_data/temps\")\n",
    "# temps_file_paths = [\"./raw_data/temps\" + file for file in temps_files]"
   ]
  },
  {
   "cell_type": "code",
   "execution_count": null,
   "id": "1820e93d-a9a0-4227-a49d-1b7923e48198",
   "metadata": {},
   "outputs": [],
   "source": [
    "# create list of all individual dfs\n",
    "\n",
    "# temps_dfs = []\n",
    "\n",
    "# for temps_file_path in temps_file_paths:\n",
    "#     try:\n",
    "#         d = pd.read_csv(temps_file_path, skiprows=90)[:-1]\n",
    "#         temps_dfs.append(d)\n",
    "#     except:\n",
    "#         continue\n",
    "\n",
    "# temps_df = pd.concat(temps_dfs, ignore_index=True)\n",
    "# temps_df.to_csv(\"temps_weather_data.csv\")\n",
    "# temps_df.sample(2000).to_csv('temps_sample.csv')"
   ]
  },
  {
   "cell_type": "markdown",
   "id": "c0a412e4-901b-4ff8-b3ef-e63a5ac169c2",
   "metadata": {
    "tags": []
   },
   "source": [
    "## Rain"
   ]
  },
  {
   "cell_type": "code",
   "execution_count": null,
   "id": "55c0b127-3f97-42d0-b68e-239b36323c94",
   "metadata": {},
   "outputs": [],
   "source": [
    "# selecting only recent, rain data\n",
    "\n",
    "# rain = paths_file.loc[\n",
    "#     (paths_file.dataset == \"uk-daily-rain-obs\")\n",
    "#     & (paths_file.version == \"dataset-version-202007\"),\n",
    "#     [\"path\", \"dataset\", \"region\", \"site\"],\n",
    "# ]"
   ]
  },
  {
   "cell_type": "code",
   "execution_count": null,
   "id": "e7898519-0062-4f1c-9d0b-9db1272733be",
   "metadata": {},
   "outputs": [],
   "source": [
    "# # necessary prefix and suffix needed in addition to above file paths\n",
    "\n",
    "# link_start = \"https://dap.ceda.ac.uk/badc/ukmo-midas-open\"\n",
    "# link_end = \"?download=1\""
   ]
  },
  {
   "cell_type": "code",
   "execution_count": null,
   "id": "c0d17023-9fc2-46fb-9d02-9161660b682e",
   "metadata": {},
   "outputs": [],
   "source": [
    "# # not interested in 'capability files'\n",
    "\n",
    "# drop_rain = rain.path.str.contains(\"capability\")\n",
    "# rain = rain[~drop_rain]"
   ]
  },
  {
   "cell_type": "code",
   "execution_count": null,
   "id": "e3f386c9-3aa5-4eb6-a6d9-8f5f30cccb05",
   "metadata": {},
   "outputs": [],
   "source": [
    "# creating list of all urls, while dropping leading '.' from file path\n",
    "\n",
    "# rain_urls = [link_start + url.strip(\".\") + link_end for url in rain.path]"
   ]
  },
  {
   "cell_type": "code",
   "execution_count": null,
   "id": "d7ee3943-035c-438c-a8b0-eca8befe719a",
   "metadata": {},
   "outputs": [],
   "source": [
    "# # checking for existing files and removing from download list\n",
    "# # useful if dowload fails halfway through etc\n",
    "\n",
    "# existing_rain_files = listdir(\"raw_data/rain\")\n",
    "\n",
    "# remaining_rain_urls = [\n",
    "#     url\n",
    "#     for url in rain_urls\n",
    "#     if url.split(\"/\")[-1].split(\"?\")[0] not in existing_rain_files\n",
    "# ]"
   ]
  },
  {
   "cell_type": "markdown",
   "id": "4a8ee7e0-8f81-4059-b112-a2970fb14405",
   "metadata": {},
   "source": [
    "10 threads, 100 images"
   ]
  },
  {
   "cell_type": "markdown",
   "id": "bd2f35c4-bcce-429c-adce-e1a6deea871b",
   "metadata": {},
   "source": [
    "### Initiating threading to improve download speed\n",
    "10 threads yielded best overall speed"
   ]
  },
  {
   "cell_type": "markdown",
   "id": "ee8704e9-ff4f-4bbe-8e04-dcae25103b96",
   "metadata": {},
   "source": [
    "80 downloads, 5 threads - 32s\n",
    "100 downloads, 5 threads - 41s\n",
    "100 downloads, 10 threads - 39s\n",
    "100 downloads, 8 threads - 41s\n",
    "100 downloads, 4 threads - 52s\n",
    "100 downloads, 4 threads (no cloud sync) - 55s\n",
    "\n",
    "100 downloads, 10 threads (no cloud sync) - 43"
   ]
  },
  {
   "cell_type": "code",
   "execution_count": null,
   "id": "4943a341-b076-4956-9f11-59f3c0d355ca",
   "metadata": {},
   "outputs": [],
   "source": [
    "# start = time()\n",
    "\n",
    "# threads = ThreadPool(35)  # Initialize the desired number of threads\n",
    "# threads.map(sfd.main_rain, remaining_rain_urls)\n",
    "\n",
    "# print(\n",
    "#     f\"\\nParallel Execution of {len(remaining_rain_urls)} downloads, Time Taken: {time() - start}\"\n",
    "# )"
   ]
  },
  {
   "cell_type": "markdown",
   "id": "c14fa8b8-beb6-4501-ab37-213851dd93ff",
   "metadata": {},
   "source": [
    "10 threads: Parallel Execution of 1000 downloads, Time Taken: 495.3680646419525\n",
    "20 threads: Parallel Execution of 100 downloads, Time Taken: 14.518167734146118\n",
    "30 threads: Parallel Execution of 100 downloads, Time Taken: 14.71552300453186\n",
    "50 threads: Parallel Execution of 100 downloads, Time Taken: 11.511000871658325\n",
    "50 threads: Parallel Execution of 200 downloads, Time Taken: 23.772233963012695\n",
    "30 threads: Parallel Execution of 200 downloads, Time Taken: 35.990025997161865"
   ]
  },
  {
   "cell_type": "code",
   "execution_count": null,
   "id": "1370eb56-c6fb-429e-a9a8-37cc9c9f3488",
   "metadata": {},
   "outputs": [],
   "source": [
    "# # # combine all csvs into one\n",
    "\n",
    "# rain_files = listdir(\"raw_data/rain\")\n",
    "# rain_file_paths = [\"./raw_data/rain/\" + file for file in rain_files]"
   ]
  },
  {
   "cell_type": "code",
   "execution_count": null,
   "id": "49d98554-1e46-4b8a-8ce9-50545f8cbc2e",
   "metadata": {},
   "outputs": [],
   "source": [
    "# # create list of all individual dfs\n",
    "\n",
    "# rain_dfs = []\n",
    "\n",
    "# for rain_file_path in rain_file_paths:\n",
    "#     try:\n",
    "#         d = pd.read_csv(rain_file_path, skiprows=61)[:-1]\n",
    "#         rain_dfs.append(d)\n",
    "#     except:\n",
    "#         continue"
   ]
  },
  {
   "cell_type": "code",
   "execution_count": null,
   "id": "5d81527a-7158-47f7-bc9d-862da49624b5",
   "metadata": {},
   "outputs": [],
   "source": [
    "# len(rain_dfs)"
   ]
  },
  {
   "cell_type": "code",
   "execution_count": null,
   "id": "db4faff3-0f9a-4d81-a429-8fa34358b9a8",
   "metadata": {},
   "outputs": [],
   "source": [
    "# rain_df = pd.concat(rain_dfs, ignore_index=True)"
   ]
  },
  {
   "cell_type": "markdown",
   "id": "8d89878e-878d-41fc-9536-2ad745965af5",
   "metadata": {},
   "source": [
    "Write to csv for easier reading in the future"
   ]
  },
  {
   "cell_type": "code",
   "execution_count": 22,
   "id": "b6493ede-d3e5-4ebd-9668-a9771badcffd",
   "metadata": {},
   "outputs": [
    {
     "name": "stderr",
     "output_type": "stream",
     "text": [
      "/Users/angus/opt/anaconda3/envs/weather/lib/python3.9/site-packages/IPython/core/interactiveshell.py:3169: DtypeWarning: Columns (13,16,17,18,20,21,22,24,25,26) have mixed types.Specify dtype option on import or set low_memory=False.\n",
      "  has_raised = await self.run_ast_nodes(code_ast.body, cell_name,\n"
     ]
    }
   ],
   "source": [
    "# rain_df.to_csv(\"rain_weather_data.csv\")\n",
    "rain_df.sample(2000).to_csv('rain_sample.csv')"
   ]
  },
  {
   "cell_type": "markdown",
   "id": "23b432ca-895e-41be-9f56-0cb92c0eedcb",
   "metadata": {
    "tags": []
   },
   "source": [
    "## Wind"
   ]
  },
  {
   "cell_type": "code",
   "execution_count": null,
   "id": "1c4c5c1e-b174-41bd-824a-095370818ad7",
   "metadata": {},
   "outputs": [],
   "source": [
    "# # selecting only recent, wind data\n",
    "\n",
    "# wind = paths_file.loc[\n",
    "#     (paths_file.dataset == \"uk-mean-wind-obs\")\n",
    "#     & (paths_file.version == \"dataset-version-202007\"),\n",
    "#     [\"path\", \"dataset\", \"region\", \"site\"],\n",
    "# ]"
   ]
  },
  {
   "cell_type": "code",
   "execution_count": null,
   "id": "9e326eb9-a296-4b86-a292-b5ae4da255f0",
   "metadata": {},
   "outputs": [],
   "source": [
    "# # necessary prefix and suffix needed in addition to above file paths\n",
    "\n",
    "# link_start = \"https://dap.ceda.ac.uk/badc/ukmo-midas-open\"\n",
    "# link_end = \"?download=1\""
   ]
  },
  {
   "cell_type": "code",
   "execution_count": null,
   "id": "6e23cf1b-93ed-4028-b65d-24afe28cf631",
   "metadata": {},
   "outputs": [],
   "source": [
    "# # not interested in 'capability files'\n",
    "\n",
    "# drop_wind = wind.path.str.contains(\"capability|.txt\")\n",
    "# wind = wind[~drop_wind]"
   ]
  },
  {
   "cell_type": "code",
   "execution_count": null,
   "id": "28d80d6b-6e90-40b5-bd4c-55c92ac71109",
   "metadata": {},
   "outputs": [],
   "source": [
    "# creating list of all urls, while dropping leading '.' from file path\n",
    "\n",
    "# wind_urls = [link_start + url.strip(\".\") + link_end for url in wind.path]"
   ]
  },
  {
   "cell_type": "code",
   "execution_count": null,
   "id": "a514dcf8-9964-4ad7-92b1-02791bc95777",
   "metadata": {},
   "outputs": [],
   "source": [
    "# # checking for existing files and removing from download list\n",
    "# # useful if dowload fails halfway through etc\n",
    "\n",
    "# existing_wind_files = listdir(\"raw_data/wind\")\n",
    "\n",
    "# remaining_wind_urls = [\n",
    "#     url\n",
    "#     for url in wind_urls\n",
    "#     if url.split(\"/\")[-1].split(\"?\")[0] not in existing_wind_files\n",
    "# ]"
   ]
  },
  {
   "cell_type": "markdown",
   "id": "f27a2826-226f-4a73-96e1-9b71e2b535c1",
   "metadata": {},
   "source": [
    "10 threads, 100 images"
   ]
  },
  {
   "cell_type": "markdown",
   "id": "6eeeffbc-b648-4dc3-b4f4-79f2455eede8",
   "metadata": {},
   "source": [
    "### Initiating threading to improve download speed"
   ]
  },
  {
   "cell_type": "code",
   "execution_count": null,
   "id": "b230725f-43a7-4f77-a54d-aabaf1061695",
   "metadata": {},
   "outputs": [],
   "source": [
    "# start = time()\n",
    "# print(len(remaining_wind_urls))\n",
    "\n",
    "# threads = ThreadPool(100)  # Initialize the desired number of threads\n",
    "# threads.map(sfd.main_wind, remaining_wind_urls)\n",
    "\n",
    "# print(\n",
    "#     f\"\\nParallel Execution of {len(remaining_wind_urls)} downloads, Time Taken: {time() - start}\"\n",
    "# )"
   ]
  },
  {
   "cell_type": "markdown",
   "id": "701a42ca-71dc-47d7-a488-8edbcd73e99d",
   "metadata": {},
   "source": [
    "50 threads: Parallel Execution of 100 downloads, Time Taken: 13.238924980163574\n",
    "100 threads: Parallel Execution of 100 downloads, Time Taken: 14.138805150985718\n",
    "100 threads: Parallel Execution of 1000 downloads, Time Taken: 132.64730596542358\n",
    "200 threads: Parallel Execution of 1000 downloads, Time Taken: 177.47796607017517 - worse than 100\n",
    "50 threads: Parallel Execution of 1000 downloads, Time Taken: 204.20170307159424 - sticking with 100"
   ]
  },
  {
   "cell_type": "code",
   "execution_count": 50,
   "id": "c68869dd-87a0-4bf3-9ff1-df9866527bd3",
   "metadata": {},
   "outputs": [],
   "source": [
    "# # # combine all csvs into one\n",
    "\n",
    "wind_files = listdir(\"raw_data/wind\")\n",
    "wind_file_paths = [\n",
    "    \"./raw_data/wind/\" + file for file in wind_files if file[-4:] == \".csv\"\n",
    "]"
   ]
  },
  {
   "cell_type": "code",
   "execution_count": 51,
   "id": "5b46df95-a2ca-4333-a8c7-89a61b330867",
   "metadata": {},
   "outputs": [],
   "source": [
    "# # create list of all individual dfs\n",
    "\n",
    "\n",
    "wind_dfs = []\n",
    "bad_files = []\n",
    "\n",
    "for wind_file_path in wind_file_paths:\n",
    "    try:\n",
    "        d = pd.read_csv(wind_file_path, skiprows=79)[:-1]\n",
    "        wind_dfs.append(d)\n",
    "    except pd.errors.EmptyDataError:\n",
    "        bad_files.append(wind_file_path)\n",
    "        continue"
   ]
  },
  {
   "cell_type": "code",
   "execution_count": 47,
   "id": "ce65fc4f-88d9-485e-b97e-d996eb5804e1",
   "metadata": {},
   "outputs": [
    {
     "data": {
      "text/plain": [
       "10205"
      ]
     },
     "execution_count": 47,
     "metadata": {},
     "output_type": "execute_result"
    }
   ],
   "source": [
    "len(wind_dfs)"
   ]
  },
  {
   "cell_type": "code",
   "execution_count": 48,
   "id": "0d4cedc8-c265-4db9-b19f-000fedbfdc4f",
   "metadata": {},
   "outputs": [
    {
     "data": {
      "text/plain": [
       "54"
      ]
     },
     "execution_count": 48,
     "metadata": {},
     "output_type": "execute_result"
    }
   ],
   "source": [
    "len(bad_files)"
   ]
  },
  {
   "cell_type": "code",
   "execution_count": 62,
   "id": "35b4eed5-6ef9-49f9-a33d-d50f1b8bd909",
   "metadata": {},
   "outputs": [],
   "source": [
    "wind_df = pd.concat(wind_dfs, ignore_index=True)"
   ]
  },
  {
   "cell_type": "markdown",
   "id": "ffecda7e-def6-4d4e-8f7b-39ac7d8930a0",
   "metadata": {},
   "source": [
    "Write to csv for easier reading in the future"
   ]
  },
  {
   "cell_type": "code",
   "execution_count": 63,
   "id": "825b2487-18c3-464a-8725-24692ed8986b",
   "metadata": {},
   "outputs": [],
   "source": [
    "wind_df.to_csv(\"wind_weather_data.csv\")\n",
    "wind_df.sample(2000).to_csv('wind_sample.csv')"
   ]
  }
 ],
 "metadata": {
  "kernelspec": {
   "display_name": "Python 3",
   "language": "python",
   "name": "python3"
  },
  "language_info": {
   "codemirror_mode": {
    "name": "ipython",
    "version": 3
   },
   "file_extension": ".py",
   "mimetype": "text/x-python",
   "name": "python",
   "nbconvert_exporter": "python",
   "pygments_lexer": "ipython3",
   "version": "3.9.5"
  }
 },
 "nbformat": 4,
 "nbformat_minor": 5
}
